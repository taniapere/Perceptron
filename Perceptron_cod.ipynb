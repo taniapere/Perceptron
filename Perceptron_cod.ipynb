{
 "cells": [
  {
   "cell_type": "code",
   "execution_count": 1,
   "metadata": {},
   "outputs": [],
   "source": [
    "import matplotlib.pyplot as plt\n",
    "import matplotlib.animation as animation\n",
    "import random"
   ]
  },
  {
   "cell_type": "code",
   "execution_count": 2,
   "metadata": {},
   "outputs": [],
   "source": [
    "lines = []\n",
    "\n",
    "class Perceptron:\n",
    "  def __init__(self, num_inputs=3, weights=[1,1,1]):\n",
    "    self.num_inputs = num_inputs\n",
    "    self.weights = weights\n",
    "\n",
    "  def weighted_sum(self, inputs):\n",
    "    weighted_sum = 0\n",
    "    for i in range(self.num_inputs):\n",
    "      weighted_sum += self.weights[i]*inputs[i]\n",
    "    return weighted_sum\n",
    "\n",
    "  def activation(self, weighted_sum):\n",
    "    if weighted_sum >= 0:\n",
    "      return 1\n",
    "    if weighted_sum < 0:\n",
    "      return -1\n",
    "\n",
    "  def training(self, training_set):\n",
    "    foundLine = False\n",
    "    while not foundLine:\n",
    "      total_error = 0\n",
    "      for inputs in training_set:\n",
    "        prediction = self.activation(self.weighted_sum(inputs))\n",
    "        actual = training_set[inputs]\n",
    "        error = actual - prediction\n",
    "        total_error += abs(error)\n",
    "        for i in range(self.num_inputs):\n",
    "          self.weights[i] += error*inputs[i]\n",
    "\n",
    "      slope = -self.weights[0]/self.weights[1]\n",
    "      intercept = -self.weights[2]/self.weights[1]\n",
    "      y1 = (slope * 0) + intercept\n",
    "      y2 = (slope * 50) + intercept\n",
    "      lines.append([[0,50], [y1, y2]])\n",
    "\n",
    "      if total_error == 0:\n",
    "        foundLine = True"
   ]
  },
  {
   "cell_type": "code",
   "execution_count": 3,
   "metadata": {},
   "outputs": [
    {
     "data": {
      "image/png": "[encoded data removed]",
      "text/plain": [
       "<Figure size 432x288 with 1 Axes>"
      ]
     },
     "metadata": {},
     "output_type": "display_data"
    }
   ],
   "source": [
    "def generate_training_set(num_points):\n",
    "    x_coordinates = [random.randint(0, 50) for i in range(num_points)]\n",
    "    y_coordinates = [random.randint(0, 50) for i in range(num_points)]\n",
    "    training_set = dict()\n",
    "    for x, y in zip(x_coordinates, y_coordinates):\n",
    "        if x <= 45-y:\n",
    "            training_set[(x,y,1)] = 1\n",
    "        elif x > 45-y:\n",
    "            training_set[(x,y,1)] = -1\n",
    "    return training_set\n",
    "\n",
    "training_set = generate_training_set(30)\n",
    "\n",
    "x_plus = []\n",
    "y_plus = []\n",
    "x_minus = []\n",
    "y_minus = []\n",
    "\n",
    "for data in training_set:\n",
    "    if training_set[data] == 1:\n",
    "        x_plus.append(data[0])\n",
    "        y_plus.append(data[1])\n",
    "    elif training_set[data] == -1:\n",
    "        x_minus.append(data[0])\n",
    "        y_minus.append(data[1])\n",
    "\n",
    "perceptron = Perceptron()\n",
    "perceptron.training(training_set)\n",
    "\n",
    "fig = plt.figure()\n",
    "ax = plt.axes(xlim=(-25, 75), ylim=(-25, 75))\n",
    "line, = ax.plot([], [], lw=2)\n",
    "\n",
    "fig.patch.set_facecolor('#ffc107')\n",
    "\n",
    "plt.scatter(x_plus, y_plus, marker = '+', c = 'green', s = 128, linewidth = 2)\n",
    "plt.scatter(x_minus, y_minus, marker = '_', c = 'red', s = 128, linewidth = 2)\n",
    "\n",
    "plt.title('Iteration: 0')\n",
    "\n",
    "\n",
    "def animate(i):\n",
    "    print(i)\n",
    "    line.set_xdata(lines[i][0])  # update the data\n",
    "    line.set_ydata(lines[i][1])  # update the data\n",
    "    return line,\n",
    "\n",
    "def init():\n",
    "    line.set_data([], [])\n",
    "    return line,\n",
    "\n",
    "ani = animation.FuncAnimation(fig, animate, frames=1, init_func=init, interval=50, blit=True, repeat=False)\n",
    "\n",
    "plt.show()"
   ]
  }
 ],
 "metadata": {
  "kernelspec": {
   "display_name": "Python 3",
   "language": "python",
   "name": "python3"
  },
  "language_info": {
   "codemirror_mode": {
    "name": "ipython",
    "version": 3
   },
   "file_extension": ".py",
   "mimetype": "text/x-python",
   "name": "python",
   "nbconvert_exporter": "python",
   "pygments_lexer": "ipython3",
   "version": "3.8.3"
  }
 },
 "nbformat": 4,
 "nbformat_minor": 4
}
